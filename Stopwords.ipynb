{
  "nbformat": 4,
  "nbformat_minor": 0,
  "metadata": {
    "colab": {
      "name": "Stopwords.ipynb",
      "provenance": []
    },
    "kernelspec": {
      "name": "python3",
      "display_name": "Python 3"
    }
  },
  "cells": [
    {
      "cell_type": "code",
      "metadata": {
        "id": "NxH7juu_B6DP",
        "colab_type": "code",
        "colab": {}
      },
      "source": [
        "import spacy"
      ],
      "execution_count": 0,
      "outputs": []
    },
    {
      "cell_type": "code",
      "metadata": {
        "id": "pOkH7wNlCE9n",
        "colab_type": "code",
        "colab": {}
      },
      "source": [
        "nlp = spacy.load('en_core_web_sm')"
      ],
      "execution_count": 0,
      "outputs": []
    },
    {
      "cell_type": "code",
      "metadata": {
        "id": "BWkVZVAsCGF0",
        "colab_type": "code",
        "colab": {
          "base_uri": "https://localhost:8080/",
          "height": 56
        },
        "outputId": "eb7f1efe-d1fa-42ed-9ad8-c2540b9308b8"
      },
      "source": [
        "print(nlp.Defaults.stop_words)"
      ],
      "execution_count": 5,
      "outputs": [
        {
          "output_type": "stream",
          "text": [
            "{'see', 'own', 'then', 'there', 'except', '‘ve', 'beside', 'their', 'everywhere', 'of', 'five', 'might', 'thereafter', 'while', 'are', 'other', 'just', 'six', 'ourselves', 'hereupon', 'is', 'last', 'nor', 'sometimes', 'get', 'few', 'among', 'before', 'eight', 'may', 'with', 'give', 'mostly', 'often', 'always', 'else', 'i', 'off', 'others', 'hence', 'rather', 'whereafter', 'herself', 'been', 'itself', 'an', 'call', 'none', 'twenty', 'all', 'being', 'am', 'behind', 'quite', 'either', 'still', 'us', 'thence', 'thereby', 'any', 'via', 'alone', 'fifty', 'much', 'nine', 'thereupon', 'top', 'very', 'beyond', 'himself', 'nowhere', 'your', 'besides', 'some', 'something', 'out', 'namely', 'never', 'whither', 'amount', 'after', \"'ve\", 'nobody', 'would', 'across', 'already', 'yourselves', \"n't\", 'every', 'otherwise', 'afterwards', 'ten', 'over', 'my', 'side', 'sixty', 'who', 'per', 'does', 'doing', 'from', 'yourself', 'nothing', 'as', 'whether', 'we', 'this', 'upon', 'it', 'moreover', 'she', 'therefore', 'whence', 'go', 'twelve', 'full', 'take', 'hers', 'unless', 'than', 'together', 'empty', 'mine', 'once', 'because', 'seeming', 'seemed', 'towards', 'wherein', 'former', 'those', 'everyone', 'really', 'seems', 'what', 'at', 'no', 'used', 'one', 'yet', 'them', 'therein', 'almost', 'along', 'sometime', 'three', 'serious', 'whereupon', 'without', 'less', '‘m', 'become', 'the', 'have', 'using', \"'m\", 'anyway', 'keep', 'not', 'back', 'herein', 'me', 'somehow', 'thus', 'further', 'various', 'through', 'him', 'around', 'someone', 'about', 'whole', 'put', 'noone', 'regarding', 'throughout', '‘re', 'and', 'latterly', 'only', 'same', 'several', 'each', 'within', 'you', 'thru', 'next', \"'ll\", 'fifteen', 'show', 'such', 'toward', 'indeed', 'make', \"'s\", 'ever', 'they', 'which', 'whose', '’re', 'becomes', 'also', 'most', 'or', 'when', 'has', 'down', 'here', 'name', 'becoming', 'how', 'many', 'third', '’m', 'yours', 'that', 'meanwhile', 'where', 'please', 'these', '‘s', 'became', 'anyhow', '‘ll', 'was', '’ve', 'its', 'his', 'on', 'will', 'why', 'too', '’d', 'below', 'should', '’ll', 'against', \"'d\", 'n‘t', 'whom', 'if', 'anyone', 'both', 'done', 'least', 'say', 'seem', 'he', 'anything', 'ours', 'ca', 'wherever', 'now', 'myself', 'anywhere', 'in', 'two', 'beforehand', 'part', 'were', 'n’t', 'had', 'so', 'can', 'amongst', 'by', 'however', 'above', 'neither', 'front', 'everything', 'more', 'since', 'latter', 'under', 'eleven', 'elsewhere', 'whereas', 'hereby', 'onto', 'nevertheless', 'during', 'up', 'forty', 're', 'again', 'enough', 'whenever', 'to', 'cannot', 'somewhere', 'though', 'until', 'four', 'her', 'for', '‘d', 'could', 'hundred', 'must', 'whatever', 'whereby', 'our', '’s', 'themselves', 'well', 'formerly', 'be', 'although', 'made', 'but', 'perhaps', 'between', \"'re\", 'do', 'due', 'hereafter', 'even', 'move', 'did', 'into', 'another', 'a', 'bottom', 'first', 'whoever'}\n"
          ],
          "name": "stdout"
        }
      ]
    },
    {
      "cell_type": "code",
      "metadata": {
        "id": "gjknsEz8CJdE",
        "colab_type": "code",
        "colab": {
          "base_uri": "https://localhost:8080/",
          "height": 36
        },
        "outputId": "22deb077-487c-4805-8c04-3b2576cde195"
      },
      "source": [
        "nlp.vocab['a'].is_stop"
      ],
      "execution_count": 7,
      "outputs": [
        {
          "output_type": "execute_result",
          "data": {
            "text/plain": [
              "True"
            ]
          },
          "metadata": {
            "tags": []
          },
          "execution_count": 7
        }
      ]
    },
    {
      "cell_type": "code",
      "metadata": {
        "id": "R1iv-OVwCUOU",
        "colab_type": "code",
        "colab": {
          "base_uri": "https://localhost:8080/",
          "height": 36
        },
        "outputId": "4e74faf2-fff3-4361-8316-0c7e890a2807"
      },
      "source": [
        "nlp.vocab['kitty'].is_stop"
      ],
      "execution_count": 8,
      "outputs": [
        {
          "output_type": "execute_result",
          "data": {
            "text/plain": [
              "False"
            ]
          },
          "metadata": {
            "tags": []
          },
          "execution_count": 8
        }
      ]
    },
    {
      "cell_type": "code",
      "metadata": {
        "id": "M8UPh-Q_CZP0",
        "colab_type": "code",
        "colab": {
          "base_uri": "https://localhost:8080/",
          "height": 36
        },
        "outputId": "07998ef9-1a69-4bf1-8207-66dbe62445e6"
      },
      "source": [
        " nlp.vocab['btw'].is_stop"
      ],
      "execution_count": 9,
      "outputs": [
        {
          "output_type": "execute_result",
          "data": {
            "text/plain": [
              "False"
            ]
          },
          "metadata": {
            "tags": []
          },
          "execution_count": 9
        }
      ]
    },
    {
      "cell_type": "code",
      "metadata": {
        "id": "y0U_ah73Ck-k",
        "colab_type": "code",
        "colab": {}
      },
      "source": [
        "nlp.Defaults.stop_words.add('btw')"
      ],
      "execution_count": 0,
      "outputs": []
    },
    {
      "cell_type": "code",
      "metadata": {
        "id": "zDyfj1cBCoJE",
        "colab_type": "code",
        "colab": {}
      },
      "source": [
        " nlp.vocab['btw'].is_stop = True"
      ],
      "execution_count": 0,
      "outputs": []
    },
    {
      "cell_type": "code",
      "metadata": {
        "id": "Quk84bxfCo9E",
        "colab_type": "code",
        "colab": {
          "base_uri": "https://localhost:8080/",
          "height": 36
        },
        "outputId": "43d3f3f2-56aa-497d-c7cd-3bd014a870b2"
      },
      "source": [
        " nlp.vocab['btw'].is_stop"
      ],
      "execution_count": 14,
      "outputs": [
        {
          "output_type": "execute_result",
          "data": {
            "text/plain": [
              "True"
            ]
          },
          "metadata": {
            "tags": []
          },
          "execution_count": 14
        }
      ]
    },
    {
      "cell_type": "code",
      "metadata": {
        "id": "JsYdpIOwCtb1",
        "colab_type": "code",
        "colab": {}
      },
      "source": [
        "nlp.Defaults.stop_words.remove('beyond')"
      ],
      "execution_count": 0,
      "outputs": []
    },
    {
      "cell_type": "code",
      "metadata": {
        "id": "OriASlJ-C9a0",
        "colab_type": "code",
        "colab": {}
      },
      "source": [
        " nlp.vocab['beyond'].is_stop = False"
      ],
      "execution_count": 0,
      "outputs": []
    },
    {
      "cell_type": "code",
      "metadata": {
        "id": "2ZbKMgloDAgT",
        "colab_type": "code",
        "colab": {
          "base_uri": "https://localhost:8080/",
          "height": 36
        },
        "outputId": "e1735b9d-69d7-4738-c2c0-d75789d4ade1"
      },
      "source": [
        " nlp.vocab['beyond'].is_stop"
      ],
      "execution_count": 17,
      "outputs": [
        {
          "output_type": "execute_result",
          "data": {
            "text/plain": [
              "False"
            ]
          },
          "metadata": {
            "tags": []
          },
          "execution_count": 17
        }
      ]
    },
    {
      "cell_type": "code",
      "metadata": {
        "id": "NihP6K0oDCCT",
        "colab_type": "code",
        "colab": {}
      },
      "source": [
        ""
      ],
      "execution_count": 0,
      "outputs": []
    }
  ]
}