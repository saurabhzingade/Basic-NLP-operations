{
  "nbformat": 4,
  "nbformat_minor": 0,
  "metadata": {
    "colab": {
      "name": "Names_entity_recognition.ipynb",
      "provenance": []
    },
    "kernelspec": {
      "name": "python3",
      "display_name": "Python 3"
    }
  },
  "cells": [
    {
      "cell_type": "code",
      "metadata": {
        "id": "kp7No8JvNP9W",
        "colab_type": "code",
        "colab": {}
      },
      "source": [
        "import spacy"
      ],
      "execution_count": 0,
      "outputs": []
    },
    {
      "cell_type": "code",
      "metadata": {
        "id": "_AlN0ZCwNb2z",
        "colab_type": "code",
        "colab": {}
      },
      "source": [
        "nlp = spacy.load('en_core_web_sm')"
      ],
      "execution_count": 0,
      "outputs": []
    },
    {
      "cell_type": "code",
      "metadata": {
        "id": "HIVCKObONlUf",
        "colab_type": "code",
        "colab": {}
      },
      "source": [
        "def show_ent(doc):\n",
        "  if doc.ents:\n",
        "    for ent in doc.ents:\n",
        "      print(ent.text + '---' + ent.label_+ '---' + str(spacy.explain(ent.label_)))\n",
        "  else:\n",
        "    print(\"NO entity found\")"
      ],
      "execution_count": 0,
      "outputs": []
    },
    {
      "cell_type": "code",
      "metadata": {
        "id": "sFv32d54N4ZO",
        "colab_type": "code",
        "colab": {}
      },
      "source": [
        "doc = nlp(u'Hi how are you?')"
      ],
      "execution_count": 0,
      "outputs": []
    },
    {
      "cell_type": "code",
      "metadata": {
        "id": "H_946k7mOBAw",
        "colab_type": "code",
        "colab": {
          "base_uri": "https://localhost:8080/",
          "height": 36
        },
        "outputId": "758e67bb-9213-4507-d0a1-2c6b1b660c4d"
      },
      "source": [
        "show_ent(doc)"
      ],
      "execution_count": 5,
      "outputs": [
        {
          "output_type": "stream",
          "text": [
            "NO entity found\n"
          ],
          "name": "stdout"
        }
      ]
    },
    {
      "cell_type": "code",
      "metadata": {
        "id": "z8HNnc3yODIu",
        "colab_type": "code",
        "colab": {}
      },
      "source": [
        "doc = nlp(u'I love going to Mumbai in Novmeber to see Gateway of INDAIA!')"
      ],
      "execution_count": 0,
      "outputs": []
    },
    {
      "cell_type": "code",
      "metadata": {
        "id": "pHvFt5cVOKSu",
        "colab_type": "code",
        "colab": {
          "base_uri": "https://localhost:8080/",
          "height": 73
        },
        "outputId": "fb1bff99-dd2a-4c06-ed00-def8299e520b"
      },
      "source": [
        "show_ent(doc)"
      ],
      "execution_count": 7,
      "outputs": [
        {
          "output_type": "stream",
          "text": [
            "Mumbai---GPE---Countries, cities, states\n",
            "Novmeber---GPE---Countries, cities, states\n",
            "Gateway of INDAIA---GPE---Countries, cities, states\n"
          ],
          "name": "stdout"
        }
      ]
    },
    {
      "cell_type": "code",
      "metadata": {
        "id": "3PNAVAsPOLx-",
        "colab_type": "code",
        "colab": {}
      },
      "source": [
        "doc = nlp(u\"Can i Have 500 dollars of Apple\")"
      ],
      "execution_count": 0,
      "outputs": []
    },
    {
      "cell_type": "code",
      "metadata": {
        "id": "_61jFeNWOfMQ",
        "colab_type": "code",
        "colab": {
          "base_uri": "https://localhost:8080/",
          "height": 54
        },
        "outputId": "d410bfb1-9ca9-4093-a246-90209c314efb"
      },
      "source": [
        "show_ent(doc)"
      ],
      "execution_count": 9,
      "outputs": [
        {
          "output_type": "stream",
          "text": [
            "500 dollars---MONEY---Monetary values, including unit\n",
            "Apple---ORG---Companies, agencies, institutions, etc.\n"
          ],
          "name": "stdout"
        }
      ]
    },
    {
      "cell_type": "code",
      "metadata": {
        "id": "vxsxokwNOgIR",
        "colab_type": "code",
        "colab": {}
      },
      "source": [
        "doc = nlp(u\"Tesla to build a factory in India for 5 million.\")"
      ],
      "execution_count": 0,
      "outputs": []
    },
    {
      "cell_type": "code",
      "metadata": {
        "id": "fUoqYs9nO88e",
        "colab_type": "code",
        "colab": {
          "base_uri": "https://localhost:8080/",
          "height": 54
        },
        "outputId": "dd767b0e-92f4-4a74-9df1-def786649d12"
      },
      "source": [
        "show_ent(doc)"
      ],
      "execution_count": 11,
      "outputs": [
        {
          "output_type": "stream",
          "text": [
            "India---GPE---Countries, cities, states\n",
            "5 million---CARDINAL---Numerals that do not fall under another type\n"
          ],
          "name": "stdout"
        }
      ]
    },
    {
      "cell_type": "code",
      "metadata": {
        "id": "5_baUiYAO9vt",
        "colab_type": "code",
        "colab": {}
      },
      "source": [
        "from spacy.tokens import Span"
      ],
      "execution_count": 0,
      "outputs": []
    },
    {
      "cell_type": "code",
      "metadata": {
        "id": "BdVEqzAZPLfv",
        "colab_type": "code",
        "colab": {}
      },
      "source": [
        "ORG = doc.vocab.strings[u\"ORG\"]"
      ],
      "execution_count": 0,
      "outputs": []
    },
    {
      "cell_type": "code",
      "metadata": {
        "id": "YKaOY7ksPPIe",
        "colab_type": "code",
        "colab": {
          "base_uri": "https://localhost:8080/",
          "height": 36
        },
        "outputId": "fba469fb-ae6c-4e87-c679-0cff4a35f0d6"
      },
      "source": [
        "ORG"
      ],
      "execution_count": 14,
      "outputs": [
        {
          "output_type": "execute_result",
          "data": {
            "text/plain": [
              "383"
            ]
          },
          "metadata": {
            "tags": []
          },
          "execution_count": 14
        }
      ]
    },
    {
      "cell_type": "code",
      "metadata": {
        "id": "_WxIErygPQIf",
        "colab_type": "code",
        "colab": {}
      },
      "source": [
        "new_ent = Span(doc,0,1,label=ORG)"
      ],
      "execution_count": 0,
      "outputs": []
    },
    {
      "cell_type": "code",
      "metadata": {
        "id": "qaIMZTM7PUz9",
        "colab_type": "code",
        "colab": {
          "base_uri": "https://localhost:8080/",
          "height": 36
        },
        "outputId": "b0c39b3b-a74d-40f8-b6b7-02695a0ddc34"
      },
      "source": [
        "new_ent"
      ],
      "execution_count": 16,
      "outputs": [
        {
          "output_type": "execute_result",
          "data": {
            "text/plain": [
              "Tesla"
            ]
          },
          "metadata": {
            "tags": []
          },
          "execution_count": 16
        }
      ]
    },
    {
      "cell_type": "code",
      "metadata": {
        "id": "beCKkasOPXkf",
        "colab_type": "code",
        "colab": {}
      },
      "source": [
        "doc.ents = list(doc.ents) + [new_ent]"
      ],
      "execution_count": 0,
      "outputs": []
    },
    {
      "cell_type": "code",
      "metadata": {
        "id": "5KkO-b51PcrT",
        "colab_type": "code",
        "colab": {
          "base_uri": "https://localhost:8080/",
          "height": 73
        },
        "outputId": "85e2f4fc-610c-4391-c5d7-9eb0baeb37b4"
      },
      "source": [
        "show_ent(doc)"
      ],
      "execution_count": 18,
      "outputs": [
        {
          "output_type": "stream",
          "text": [
            "Tesla---ORG---Companies, agencies, institutions, etc.\n",
            "India---GPE---Countries, cities, states\n",
            "5 million---CARDINAL---Numerals that do not fall under another type\n"
          ],
          "name": "stdout"
        }
      ]
    },
    {
      "cell_type": "code",
      "metadata": {
        "id": "t0mDP38DPjVO",
        "colab_type": "code",
        "colab": {}
      },
      "source": [
        "doc = nlp(u\"Our company created a new vacuum cleaner.\"\n",
        "          u\"This new vacuum-cleaner is the best\")"
      ],
      "execution_count": 0,
      "outputs": []
    },
    {
      "cell_type": "code",
      "metadata": {
        "id": "cJho7cp5T4yO",
        "colab_type": "code",
        "colab": {
          "base_uri": "https://localhost:8080/",
          "height": 36
        },
        "outputId": "152fa926-8eb6-4383-beca-67af2071903c"
      },
      "source": [
        "show_ent(doc)"
      ],
      "execution_count": 21,
      "outputs": [
        {
          "output_type": "stream",
          "text": [
            "NO entity found\n"
          ],
          "name": "stdout"
        }
      ]
    },
    {
      "cell_type": "code",
      "metadata": {
        "id": "lUOak57WT_7d",
        "colab_type": "code",
        "colab": {}
      },
      "source": [
        "from spacy.matcher import PhraseMatcher"
      ],
      "execution_count": 0,
      "outputs": []
    },
    {
      "cell_type": "code",
      "metadata": {
        "id": "v30JjICqUFY7",
        "colab_type": "code",
        "colab": {}
      },
      "source": [
        "matcher =PhraseMatcher(nlp.vocab)"
      ],
      "execution_count": 0,
      "outputs": []
    },
    {
      "cell_type": "code",
      "metadata": {
        "id": "u11IxlSiUIzc",
        "colab_type": "code",
        "colab": {}
      },
      "source": [
        "phrase = ['vacuum cleaner','vacuum-cleaner']"
      ],
      "execution_count": 0,
      "outputs": []
    },
    {
      "cell_type": "code",
      "metadata": {
        "id": "Fowud0hzUOXM",
        "colab_type": "code",
        "colab": {}
      },
      "source": [
        "phrase_pattern = [nlp(text) for text in phrase]"
      ],
      "execution_count": 0,
      "outputs": []
    },
    {
      "cell_type": "code",
      "metadata": {
        "id": "6N0n3YDTUUJb",
        "colab_type": "code",
        "colab": {
          "base_uri": "https://localhost:8080/",
          "height": 36
        },
        "outputId": "c53f31ee-5bd2-46bc-d5cb-c0b7000106b7"
      },
      "source": [
        "phrase_pattern"
      ],
      "execution_count": 26,
      "outputs": [
        {
          "output_type": "execute_result",
          "data": {
            "text/plain": [
              "[vacuum cleaner, vacuum-cleaner]"
            ]
          },
          "metadata": {
            "tags": []
          },
          "execution_count": 26
        }
      ]
    },
    {
      "cell_type": "code",
      "metadata": {
        "id": "NBXIJwV9UVLb",
        "colab_type": "code",
        "colab": {}
      },
      "source": [
        "matcher.add('newproduct',None,*phrase_pattern)"
      ],
      "execution_count": 0,
      "outputs": []
    },
    {
      "cell_type": "code",
      "metadata": {
        "id": "mecJRBSaUe1M",
        "colab_type": "code",
        "colab": {}
      },
      "source": [
        "found = matcher(doc)"
      ],
      "execution_count": 0,
      "outputs": []
    },
    {
      "cell_type": "code",
      "metadata": {
        "id": "r00MHHJWUlgM",
        "colab_type": "code",
        "colab": {
          "base_uri": "https://localhost:8080/",
          "height": 36
        },
        "outputId": "0e8f94f8-fb12-446f-85b7-62c21250a7f4"
      },
      "source": [
        "found"
      ],
      "execution_count": 30,
      "outputs": [
        {
          "output_type": "execute_result",
          "data": {
            "text/plain": [
              "[(2689272359382549672, 5, 7), (2689272359382549672, 10, 13)]"
            ]
          },
          "metadata": {
            "tags": []
          },
          "execution_count": 30
        }
      ]
    },
    {
      "cell_type": "code",
      "metadata": {
        "id": "b1s4_9_uUmNL",
        "colab_type": "code",
        "colab": {}
      },
      "source": [
        "from spacy.tokens import Span"
      ],
      "execution_count": 0,
      "outputs": []
    },
    {
      "cell_type": "code",
      "metadata": {
        "id": "iVO3e4adUrN7",
        "colab_type": "code",
        "colab": {}
      },
      "source": [
        "PROD = doc.vocab.strings[u\"PRODUCT\"]"
      ],
      "execution_count": 0,
      "outputs": []
    },
    {
      "cell_type": "code",
      "metadata": {
        "id": "3bVY0kAjU0fL",
        "colab_type": "code",
        "colab": {}
      },
      "source": [
        "new_ent = [Span(doc,match[1],match[2],label = PROD) for match in found]"
      ],
      "execution_count": 0,
      "outputs": []
    },
    {
      "cell_type": "code",
      "metadata": {
        "id": "j-rfM7HUU_c9",
        "colab_type": "code",
        "colab": {
          "base_uri": "https://localhost:8080/",
          "height": 36
        },
        "outputId": "9e10ece3-187c-4edb-86d0-17bbcc9d1b03"
      },
      "source": [
        "new_ent"
      ],
      "execution_count": 36,
      "outputs": [
        {
          "output_type": "execute_result",
          "data": {
            "text/plain": [
              "[vacuum cleaner, vacuum-cleaner]"
            ]
          },
          "metadata": {
            "tags": []
          },
          "execution_count": 36
        }
      ]
    },
    {
      "cell_type": "code",
      "metadata": {
        "id": "THO8Z6H2VMmK",
        "colab_type": "code",
        "colab": {}
      },
      "source": [
        "doc.ents = list(doc.ents) + new_ent"
      ],
      "execution_count": 0,
      "outputs": []
    },
    {
      "cell_type": "code",
      "metadata": {
        "id": "OZYyoHmtVR6L",
        "colab_type": "code",
        "colab": {
          "base_uri": "https://localhost:8080/",
          "height": 54
        },
        "outputId": "fb4b21c8-a16d-4d4c-f068-ef1fcdcfd766"
      },
      "source": [
        "show_ent(doc)"
      ],
      "execution_count": 39,
      "outputs": [
        {
          "output_type": "stream",
          "text": [
            "vacuum cleaner---PRODUCT---Objects, vehicles, foods, etc. (not services)\n",
            "vacuum-cleaner---PRODUCT---Objects, vehicles, foods, etc. (not services)\n"
          ],
          "name": "stdout"
        }
      ]
    },
    {
      "cell_type": "code",
      "metadata": {
        "id": "a5lv6DruVXy9",
        "colab_type": "code",
        "colab": {}
      },
      "source": [
        "doc = nlp(u\"Orignal The cost was $23.33 for fuel. But not the cost is $30.\")"
      ],
      "execution_count": 0,
      "outputs": []
    },
    {
      "cell_type": "code",
      "metadata": {
        "id": "D62axUH3VmeL",
        "colab_type": "code",
        "colab": {
          "base_uri": "https://localhost:8080/",
          "height": 36
        },
        "outputId": "4f585d5b-5abd-4d10-a587-79e6c1aacb04"
      },
      "source": [
        "[ent for ent in doc.ents if ent.label_==\"MONEY\"]"
      ],
      "execution_count": 43,
      "outputs": [
        {
          "output_type": "execute_result",
          "data": {
            "text/plain": [
              "[23.33, 30]"
            ]
          },
          "metadata": {
            "tags": []
          },
          "execution_count": 43
        }
      ]
    },
    {
      "cell_type": "code",
      "metadata": {
        "id": "2CfQuWOTVurr",
        "colab_type": "code",
        "colab": {}
      },
      "source": [
        ""
      ],
      "execution_count": 0,
      "outputs": []
    }
  ]
}