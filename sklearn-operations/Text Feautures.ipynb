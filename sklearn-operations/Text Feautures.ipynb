{
 "cells": [
  {
   "cell_type": "code",
   "execution_count": 20,
   "metadata": {},
   "outputs": [],
   "source": [
    "import pandas as pd\n",
    "import numpy as np"
   ]
  },
  {
   "cell_type": "code",
   "execution_count": 21,
   "metadata": {},
   "outputs": [],
   "source": [
    "df = pd.read_csv('smsspamcollection.tsv',sep='\\t')"
   ]
  },
  {
   "cell_type": "code",
   "execution_count": 22,
   "metadata": {},
   "outputs": [
    {
     "data": {
      "text/plain": [
       "label      0\n",
       "message    0\n",
       "length     0\n",
       "punct      0\n",
       "dtype: int64"
      ]
     },
     "execution_count": 22,
     "metadata": {},
     "output_type": "execute_result"
    }
   ],
   "source": [
    "df.isnull().sum()"
   ]
  },
  {
   "cell_type": "code",
   "execution_count": 23,
   "metadata": {},
   "outputs": [
    {
     "data": {
      "text/plain": [
       "ham     4825\n",
       "spam     747\n",
       "Name: label, dtype: int64"
      ]
     },
     "execution_count": 23,
     "metadata": {},
     "output_type": "execute_result"
    }
   ],
   "source": [
    "df['label'].value_counts()\n"
   ]
  },
  {
   "cell_type": "code",
   "execution_count": 24,
   "metadata": {},
   "outputs": [],
   "source": [
    "from sklearn.model_selection import train_test_split\n",
    "\n",
    "X = df['message']  \n",
    "y = df['label']\n",
    "\n",
    "X_train, X_test, y_train, y_test = train_test_split(X, y, test_size=0.33, random_state=42)"
   ]
  },
  {
   "cell_type": "code",
   "execution_count": 25,
   "metadata": {},
   "outputs": [],
   "source": [
    "from sklearn.feature_extraction.text import CountVectorizer"
   ]
  },
  {
   "cell_type": "code",
   "execution_count": 26,
   "metadata": {},
   "outputs": [],
   "source": [
    "count_vect = CountVectorizer()"
   ]
  },
  {
   "cell_type": "code",
   "execution_count": 30,
   "metadata": {},
   "outputs": [],
   "source": [
    " X_train_counts = count_vect.fit_transform(X_train)"
   ]
  },
  {
   "cell_type": "code",
   "execution_count": 31,
   "metadata": {},
   "outputs": [
    {
     "data": {
      "text/plain": [
       "3235                                  Yup ü not comin :-(\n",
       "945     I sent my scores to sophas and i had to do sec...\n",
       "5319                         Kothi print out marandratha.\n",
       "5528    Its just the effect of irritation. Just ignore it\n",
       "247                        I asked you to call him now ok\n",
       "3986             Whatever, juliana. Do whatever you want.\n",
       "360     Hello! Just got here, st andrews-boy its a lon...\n",
       "5347    No sir. That's why i had an 8-hr trip on the b...\n",
       "3781                              Then ur physics get a-?\n",
       "5188                                                 Okie\n",
       "1776            Did u see what I posted on your Facebook?\n",
       "3878    Sorry sir, i will call you tomorrow.  senthil....\n",
       "4169    Congrats! Nokia 3650 video camera phone is you...\n",
       "2847                     Wat time u finish ur lect today?\n",
       "4259                        I am late. I will be there at\n",
       "3922    Do 1 thing! Change that sentence into: \"Becaus...\n",
       "2696    And whenever you and i see we can still hook u...\n",
       "1592                       That's my honeymoon outfit. :)\n",
       "1723    Thought praps you meant another one. Goodo! I'...\n",
       "2299    Dont pick up d call when something important i...\n",
       "5183                  Fuuuuck I need to stop sleepin, sup\n",
       "5217               Well thats nice. Too bad i cant eat it\n",
       "5441    By the way, make sure u get train to worc fore...\n",
       "1965    Honeybee Said: *I'm d Sweetest in d World* God...\n",
       "3527    HEY BABE! FAR 2 SPUN-OUT 2 SPK AT DA MO... DEA...\n",
       "5264    Storming msg: Wen u lift d phne, u say \"HELLO\"...\n",
       "490     I think i've fixed it can you send a test mess...\n",
       "4176    How are you doing. How's the queen. Are you go...\n",
       "862                              Your brother is a genius\n",
       "1006                Give me a sec to think think about it\n",
       "                              ...                        \n",
       "2747                        K da:)how many page you want?\n",
       "2047                     Aight fuck it, I'll get it later\n",
       "2558    This message is brought to you by GMW Ltd. and...\n",
       "1082                    Can u get pic msgs to your phone?\n",
       "474     Want 2 get laid tonight? Want real Dogging loc...\n",
       "2904                          Tell me pa. How is pain de.\n",
       "4843        Awesome, that gonna be soon or later tonight?\n",
       "4117                          What you doing?how are you?\n",
       "3385    FREE MSG:We billed your mobile number by mista...\n",
       "4555    Try to do something dear. You read something f...\n",
       "1184               Am i that much bad to avoid like this?\n",
       "5051          I will vote for wherever my heart guides me\n",
       "5311    K.k:)i'm going to tirunelvali this week to see...\n",
       "2433    Really dun bluff me leh... U sleep early too. ...\n",
       "2391    First has she gained more than  &lt;#&gt; kg s...\n",
       "769     I cant pick the phone right now. Pls send a me...\n",
       "1685                       Do you want bold 2 or bb torch\n",
       "130                          K..k:)how much does it cost?\n",
       "2919                        Thanks chikku..:-) gud nyt:-*\n",
       "3171                      Mah b, I'll pick it up tomorrow\n",
       "3444    Your board is working fine. The issue of overh...\n",
       "4426                  Just now saw your message.it k da:)\n",
       "5334    Garbage bags, eggs, jam, bread, hannaford whea...\n",
       "466     great princess! I love giving and receiving or...\n",
       "3092    LORD OF THE RINGS:RETURN OF THE KING in store ...\n",
       "3772    Hi, wlcome back, did wonder if you got eaten b...\n",
       "5191                               Sorry, I'll call later\n",
       "5226        Prabha..i'm soryda..realy..frm heart i'm sory\n",
       "5390                           Nt joking seriously i told\n",
       "860               Did he just say somebody is named tampa\n",
       "Name: message, Length: 3733, dtype: object"
      ]
     },
     "execution_count": 31,
     "metadata": {},
     "output_type": "execute_result"
    }
   ],
   "source": [
    "X_train"
   ]
  },
  {
   "cell_type": "code",
   "execution_count": 32,
   "metadata": {},
   "outputs": [
    {
     "data": {
      "text/plain": [
       "<3733x7082 sparse matrix of type '<class 'numpy.int64'>'\n",
       "\twith 49992 stored elements in Compressed Sparse Row format>"
      ]
     },
     "execution_count": 32,
     "metadata": {},
     "output_type": "execute_result"
    }
   ],
   "source": [
    "X_train_counts"
   ]
  },
  {
   "cell_type": "code",
   "execution_count": 33,
   "metadata": {},
   "outputs": [
    {
     "data": {
      "text/plain": [
       "(3733,)"
      ]
     },
     "execution_count": 33,
     "metadata": {},
     "output_type": "execute_result"
    }
   ],
   "source": [
    "X_train.shape"
   ]
  },
  {
   "cell_type": "code",
   "execution_count": 34,
   "metadata": {},
   "outputs": [
    {
     "data": {
      "text/plain": [
       "(3733, 7082)"
      ]
     },
     "execution_count": 34,
     "metadata": {},
     "output_type": "execute_result"
    }
   ],
   "source": [
    " X_train_counts.shape"
   ]
  },
  {
   "cell_type": "code",
   "execution_count": 35,
   "metadata": {},
   "outputs": [],
   "source": [
    "from sklearn.feature_extraction.text import TfidfTransformer"
   ]
  },
  {
   "cell_type": "code",
   "execution_count": 36,
   "metadata": {},
   "outputs": [],
   "source": [
    "tfidf = TfidfTransformer()"
   ]
  },
  {
   "cell_type": "code",
   "execution_count": 37,
   "metadata": {},
   "outputs": [],
   "source": [
    "X_train_tfif = tfidf.fit_transform(X_train_counts)"
   ]
  },
  {
   "cell_type": "code",
   "execution_count": 39,
   "metadata": {},
   "outputs": [
    {
     "data": {
      "text/plain": [
       "(3733, 7082)"
      ]
     },
     "execution_count": 39,
     "metadata": {},
     "output_type": "execute_result"
    }
   ],
   "source": [
    "X_train_tfif.shape"
   ]
  },
  {
   "cell_type": "code",
   "execution_count": 40,
   "metadata": {},
   "outputs": [],
   "source": [
    "from sklearn.feature_extraction.text import TfidfVectorizer"
   ]
  },
  {
   "cell_type": "code",
   "execution_count": 41,
   "metadata": {},
   "outputs": [],
   "source": [
    "vect =TfidfVectorizer()"
   ]
  },
  {
   "cell_type": "code",
   "execution_count": 42,
   "metadata": {},
   "outputs": [],
   "source": [
    "X_train_tfif = vect.fit_transform(X_train)"
   ]
  },
  {
   "cell_type": "code",
   "execution_count": 44,
   "metadata": {},
   "outputs": [],
   "source": [
    "from sklearn.svm import LinearSVC"
   ]
  },
  {
   "cell_type": "code",
   "execution_count": 45,
   "metadata": {},
   "outputs": [],
   "source": [
    "clf = LinearSVC()"
   ]
  },
  {
   "cell_type": "code",
   "execution_count": 46,
   "metadata": {},
   "outputs": [
    {
     "data": {
      "text/plain": [
       "LinearSVC(C=1.0, class_weight=None, dual=True, fit_intercept=True,\n",
       "     intercept_scaling=1, loss='squared_hinge', max_iter=1000,\n",
       "     multi_class='ovr', penalty='l2', random_state=None, tol=0.0001,\n",
       "     verbose=0)"
      ]
     },
     "execution_count": 46,
     "metadata": {},
     "output_type": "execute_result"
    }
   ],
   "source": [
    "clf.fit(X_train_tfif,y_train)"
   ]
  },
  {
   "cell_type": "code",
   "execution_count": 47,
   "metadata": {},
   "outputs": [],
   "source": [
    "from sklearn.pipeline import Pipeline"
   ]
  },
  {
   "cell_type": "code",
   "execution_count": 48,
   "metadata": {},
   "outputs": [],
   "source": [
    "te_clf = Pipeline([('tfidf',TfidfVectorizer()),('clf',LinearSVC())])"
   ]
  },
  {
   "cell_type": "code",
   "execution_count": 49,
   "metadata": {},
   "outputs": [
    {
     "data": {
      "text/plain": [
       "Pipeline(memory=None,\n",
       "     steps=[('tfidf', TfidfVectorizer(analyzer='word', binary=False, decode_error='strict',\n",
       "        dtype=<class 'numpy.float64'>, encoding='utf-8', input='content',\n",
       "        lowercase=True, max_df=1.0, max_features=None, min_df=1,\n",
       "        ngram_range=(1, 1), norm='l2', preprocessor=None, smooth_idf=True,...ax_iter=1000,\n",
       "     multi_class='ovr', penalty='l2', random_state=None, tol=0.0001,\n",
       "     verbose=0))])"
      ]
     },
     "execution_count": 49,
     "metadata": {},
     "output_type": "execute_result"
    }
   ],
   "source": [
    "te_clf.fit(X_train,y_train)"
   ]
  },
  {
   "cell_type": "code",
   "execution_count": 50,
   "metadata": {},
   "outputs": [],
   "source": [
    "y_pred = te_clf.predict(X_test)"
   ]
  },
  {
   "cell_type": "code",
   "execution_count": 51,
   "metadata": {},
   "outputs": [
    {
     "data": {
      "text/plain": [
       "array(['ham', 'ham', 'ham', ..., 'ham', 'ham', 'ham'], dtype=object)"
      ]
     },
     "execution_count": 51,
     "metadata": {},
     "output_type": "execute_result"
    }
   ],
   "source": [
    "y_pred"
   ]
  },
  {
   "cell_type": "code",
   "execution_count": 52,
   "metadata": {},
   "outputs": [
    {
     "data": {
      "text/plain": [
       "3245     ham\n",
       "944      ham\n",
       "1044     ham\n",
       "2484     ham\n",
       "812      ham\n",
       "2973     ham\n",
       "2991     ham\n",
       "2942     ham\n",
       "230      ham\n",
       "1181     ham\n",
       "1912     ham\n",
       "1992     ham\n",
       "5435     ham\n",
       "4805     ham\n",
       "401     spam\n",
       "1859     ham\n",
       "1344     ham\n",
       "2952     ham\n",
       "501      ham\n",
       "3337     ham\n",
       "1945     ham\n",
       "3142     ham\n",
       "2422     ham\n",
       "381      ham\n",
       "5567    spam\n",
       "4937     ham\n",
       "79       ham\n",
       "5240     ham\n",
       "2554     ham\n",
       "5345     ham\n",
       "        ... \n",
       "1744     ham\n",
       "3383     ham\n",
       "3792    spam\n",
       "1258     ham\n",
       "4319     ham\n",
       "1451     ham\n",
       "2399     ham\n",
       "1116     ham\n",
       "1541     ham\n",
       "3618     ham\n",
       "4252     ham\n",
       "1954     ham\n",
       "5329     ham\n",
       "3045     ham\n",
       "4041     ham\n",
       "3098     ham\n",
       "2372     ham\n",
       "445      ham\n",
       "2778     ham\n",
       "4619     ham\n",
       "4165     ham\n",
       "1413     ham\n",
       "452      ham\n",
       "5375     ham\n",
       "2885     ham\n",
       "4944     ham\n",
       "3313     ham\n",
       "3652     ham\n",
       "14       ham\n",
       "4758     ham\n",
       "Name: label, Length: 1839, dtype: object"
      ]
     },
     "execution_count": 52,
     "metadata": {},
     "output_type": "execute_result"
    }
   ],
   "source": [
    "y_test"
   ]
  },
  {
   "cell_type": "code",
   "execution_count": 53,
   "metadata": {},
   "outputs": [
    {
     "name": "stdout",
     "output_type": "stream",
     "text": [
      "[[1586    7]\n",
      " [  12  234]]\n"
     ]
    }
   ],
   "source": [
    "from sklearn import metrics\n",
    "print(metrics.confusion_matrix(y_test,y_pred))"
   ]
  },
  {
   "cell_type": "code",
   "execution_count": 55,
   "metadata": {},
   "outputs": [
    {
     "name": "stdout",
     "output_type": "stream",
     "text": [
      "              precision    recall  f1-score   support\n",
      "\n",
      "         ham       0.99      1.00      0.99      1593\n",
      "        spam       0.97      0.95      0.96       246\n",
      "\n",
      "   micro avg       0.99      0.99      0.99      1839\n",
      "   macro avg       0.98      0.97      0.98      1839\n",
      "weighted avg       0.99      0.99      0.99      1839\n",
      "\n"
     ]
    }
   ],
   "source": [
    "print(metrics.classification_report(y_test,y_pred))"
   ]
  },
  {
   "cell_type": "code",
   "execution_count": 57,
   "metadata": {},
   "outputs": [
    {
     "name": "stdout",
     "output_type": "stream",
     "text": [
      "0.989668297988037\n"
     ]
    }
   ],
   "source": [
    "print(metrics.accuracy_score(y_test,y_pred))"
   ]
  },
  {
   "cell_type": "code",
   "execution_count": 59,
   "metadata": {},
   "outputs": [
    {
     "data": {
      "text/plain": [
       "array(['spam'], dtype=object)"
      ]
     },
     "execution_count": 59,
     "metadata": {},
     "output_type": "execute_result"
    }
   ],
   "source": [
    "te_clf.predict([\"You have won 500 rupees. Call on thr number 5555\"])"
   ]
  },
  {
   "cell_type": "code",
   "execution_count": null,
   "metadata": {},
   "outputs": [],
   "source": []
  }
 ],
 "metadata": {
  "kernelspec": {
   "display_name": "Python 3",
   "language": "python",
   "name": "python3"
  },
  "language_info": {
   "codemirror_mode": {
    "name": "ipython",
    "version": 3
   },
   "file_extension": ".py",
   "mimetype": "text/x-python",
   "name": "python",
   "nbconvert_exporter": "python",
   "pygments_lexer": "ipython3",
   "version": "3.7.3"
  }
 },
 "nbformat": 4,
 "nbformat_minor": 2
}
