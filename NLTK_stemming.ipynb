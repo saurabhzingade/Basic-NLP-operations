{
  "nbformat": 4,
  "nbformat_minor": 0,
  "metadata": {
    "colab": {
      "name": "NLTK_stemming.ipynb",
      "provenance": []
    },
    "kernelspec": {
      "name": "python3",
      "display_name": "Python 3"
    }
  },
  "cells": [
    {
      "cell_type": "code",
      "metadata": {
        "id": "vOxL6oK69065",
        "colab_type": "code",
        "colab": {}
      },
      "source": [
        "import nltk"
      ],
      "execution_count": 0,
      "outputs": []
    },
    {
      "cell_type": "code",
      "metadata": {
        "id": "doazJSmE-Hco",
        "colab_type": "code",
        "colab": {}
      },
      "source": [
        "from nltk.stem.porter import PorterStemmer"
      ],
      "execution_count": 0,
      "outputs": []
    },
    {
      "cell_type": "code",
      "metadata": {
        "id": "aw3aGypB-M64",
        "colab_type": "code",
        "colab": {}
      },
      "source": [
        "p_stem = PorterStemmer()"
      ],
      "execution_count": 0,
      "outputs": []
    },
    {
      "cell_type": "code",
      "metadata": {
        "id": "5d0Rnami-Oql",
        "colab_type": "code",
        "colab": {}
      },
      "source": [
        "words =['run','runner','ran','runs','colab','fair','easily','fairly','fairness']"
      ],
      "execution_count": 0,
      "outputs": []
    },
    {
      "cell_type": "code",
      "metadata": {
        "id": "VjbYHi8F-Ycl",
        "colab_type": "code",
        "colab": {
          "base_uri": "https://localhost:8080/",
          "height": 184
        },
        "outputId": "c1777226-3995-46c0-f1c7-35557d822331"
      },
      "source": [
        "for word in words:\n",
        "  print(word + '   ---->STemmed ---->'+ p_stem.stem(word))\n"
      ],
      "execution_count": 11,
      "outputs": [
        {
          "output_type": "stream",
          "text": [
            "run   ---->STemmed ---->run\n",
            "runner   ---->STemmed ---->runner\n",
            "ran   ---->STemmed ---->ran\n",
            "runs   ---->STemmed ---->run\n",
            "colab   ---->STemmed ---->colab\n",
            "fair   ---->STemmed ---->fair\n",
            "easily   ---->STemmed ---->easili\n",
            "fairly   ---->STemmed ---->fairli\n",
            "fairness   ---->STemmed ---->fair\n"
          ],
          "name": "stdout"
        }
      ]
    },
    {
      "cell_type": "code",
      "metadata": {
        "id": "B73DrVgH-gn2",
        "colab_type": "code",
        "colab": {}
      },
      "source": [
        "from nltk.stem.snowball import SnowballStemmer"
      ],
      "execution_count": 0,
      "outputs": []
    },
    {
      "cell_type": "code",
      "metadata": {
        "id": "01ewdkrL-xcX",
        "colab_type": "code",
        "colab": {}
      },
      "source": [
        "s_stem = SnowballStemmer(language='english')"
      ],
      "execution_count": 0,
      "outputs": []
    },
    {
      "cell_type": "code",
      "metadata": {
        "id": "y0So5LKy-0-m",
        "colab_type": "code",
        "colab": {
          "base_uri": "https://localhost:8080/",
          "height": 184
        },
        "outputId": "76fa3eca-2ac6-4765-c58c-3b5e38159202"
      },
      "source": [
        "for word in words:\n",
        "  print(word + '   ---->STemmed ---->'+ s_stem.stem(word))\n"
      ],
      "execution_count": 13,
      "outputs": [
        {
          "output_type": "stream",
          "text": [
            "run   ---->STemmed ---->run\n",
            "runner   ---->STemmed ---->runner\n",
            "ran   ---->STemmed ---->ran\n",
            "runs   ---->STemmed ---->run\n",
            "colab   ---->STemmed ---->colab\n",
            "fair   ---->STemmed ---->fair\n",
            "easily   ---->STemmed ---->easili\n",
            "fairly   ---->STemmed ---->fair\n",
            "fairness   ---->STemmed ---->fair\n"
          ],
          "name": "stdout"
        }
      ]
    },
    {
      "cell_type": "code",
      "metadata": {
        "id": "aZteRhOw-3wW",
        "colab_type": "code",
        "colab": {}
      },
      "source": [
        "words =['generous','generation','generously','generate']"
      ],
      "execution_count": 0,
      "outputs": []
    },
    {
      "cell_type": "code",
      "metadata": {
        "id": "bZKzHvIn_PC2",
        "colab_type": "code",
        "colab": {
          "base_uri": "https://localhost:8080/",
          "height": 91
        },
        "outputId": "7d80c65d-9e8e-447a-eae3-2a7c15947a4a"
      },
      "source": [
        "for word in words:\n",
        "  print(word + '   ---->STemmed ---->'+ s_stem.stem(word))"
      ],
      "execution_count": 15,
      "outputs": [
        {
          "output_type": "stream",
          "text": [
            "generous   ---->STemmed ---->generous\n",
            "generation   ---->STemmed ---->generat\n",
            "generously   ---->STemmed ---->generous\n",
            "generate   ---->STemmed ---->generat\n"
          ],
          "name": "stdout"
        }
      ]
    },
    {
      "cell_type": "code",
      "metadata": {
        "id": "weDmP2f1_PqY",
        "colab_type": "code",
        "colab": {}
      },
      "source": [
        ""
      ],
      "execution_count": 0,
      "outputs": []
    }
  ]
}